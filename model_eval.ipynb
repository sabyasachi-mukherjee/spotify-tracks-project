{
 "cells": [
  {
   "cell_type": "code",
   "execution_count": 1,
   "metadata": {},
   "outputs": [],
   "source": [
    "import pandas as pd"
   ]
  },
  {
   "cell_type": "code",
   "execution_count": 2,
   "metadata": {},
   "outputs": [],
   "source": [
    "from spotify.data_transformations import DataTransformations\n",
    "from spotify.train_test_split import DatasetSplit"
   ]
  },
  {
   "cell_type": "code",
   "execution_count": 3,
   "metadata": {},
   "outputs": [],
   "source": [
    "from sklearn.dummy import DummyClassifier\n",
    "from sklearn import tree\n",
    "from sklearn.linear_model import LogisticRegression\n",
    "from sklearn.ensemble import RandomForestClassifier\n",
    "from sklearn.metrics import precision_score, recall_score\n",
    "from sklearn.metrics import roc_auc_score"
   ]
  },
  {
   "cell_type": "code",
   "execution_count": 4,
   "metadata": {},
   "outputs": [],
   "source": [
    "df = pd.read_csv(\n",
    "    \"/home/sabyasachi/git/spotify_tracks/dataset/tracks.csv\"\n",
    ")  # Read dataframe"
   ]
  },
  {
   "cell_type": "code",
   "execution_count": 5,
   "metadata": {},
   "outputs": [],
   "source": [
    "DF = (df\n",
    ".pipe(DataTransformations.preprocess)\n",
    ".pipe(DataTransformations.process)\n",
    ")"
   ]
  },
  {
   "cell_type": "code",
   "execution_count": 6,
   "metadata": {},
   "outputs": [
    {
     "name": "stdout",
     "output_type": "stream",
     "text": [
      "The lengths of the train and test sets are 84941 and 21236 respectively.\n"
     ]
    }
   ],
   "source": [
    "train_set = DatasetSplit.return_train(DF)\n",
    "test_set = DatasetSplit.return_test(DF)\n",
    "print(\"The lengths of the train and test sets are {} and {} respectively.\".format(len(train_set), len(test_set)))"
   ]
  },
  {
   "cell_type": "code",
   "execution_count": 7,
   "metadata": {},
   "outputs": [],
   "source": [
    "# X_train, X_test, y_train, t_test split\n",
    "X_train = train_set.copy().drop(columns=['popularity'])\n",
    "y_train = train_set['popularity']\n",
    "X_test = test_set.copy().drop(columns=['popularity'])\n",
    "y_test = test_set['popularity']\n"
   ]
  },
  {
   "cell_type": "code",
   "execution_count": 8,
   "metadata": {},
   "outputs": [
    {
     "name": "stdout",
     "output_type": "stream",
     "text": [
      "0.8744187141663037\n",
      "The precision score is 0.0.\n",
      "The recall score is 0.0.\n"
     ]
    },
    {
     "name": "stderr",
     "output_type": "stream",
     "text": [
      "/media/sabyasachi/abc3d35f-a5e6-4ca6-9ec4-719bb77b1459/sabyasachi/git/spotify-tracks-project/venv/lib/python3.10/site-packages/sklearn/metrics/_classification.py:1334: UndefinedMetricWarning: Recall is ill-defined and being set to 0.0 due to no true samples. Use `zero_division` parameter to control this behavior.\n",
      "  _warn_prf(average, modifier, msg_start, len(result))\n"
     ]
    }
   ],
   "source": [
    "# Dummy Classifier\n",
    "dummy_clf = DummyClassifier(strategy=\"most_frequent\")\n",
    "dummy_clf.fit(X_train, y_train)\n",
    "dummy_train_pred = dummy_clf.predict(X_train)\n",
    "print(dummy_clf.score(X_train, y_train))\n",
    "\n",
    "# precision, recall\n",
    "print(f\"The precision score is {precision_score(dummy_train_pred, y_train)}.\")\n",
    "\n",
    "print(f\"The recall score is {recall_score(dummy_train_pred, y_train)}.\")\n",
    "#print(f\"The AUC score is {roc_auc_score(dummy_train_pred, y_train)}\")\n",
    "\n",
    "\n"
   ]
  },
  {
   "cell_type": "code",
   "execution_count": 9,
   "metadata": {},
   "outputs": [
    {
     "name": "stdout",
     "output_type": "stream",
     "text": [
      "0.9930893208226886\n",
      "The precision score is 0.9488140995593888.\n",
      "The recall score is 0.9959653611493801.\n"
     ]
    }
   ],
   "source": [
    "# Decision Tree\n",
    "decision_clf = tree.DecisionTreeClassifier()\n",
    "decision_clf.fit(X_train, y_train)\n",
    "decision_train_pred = decision_clf.predict(X_train)\n",
    "print(decision_clf.score(X_train, y_train))\n",
    "\n",
    "# precision, recall\n",
    "print(f\"The precision score is {precision_score(decision_train_pred, y_train)}.\")\n",
    "\n",
    "print(f\"The recall score is {recall_score(decision_train_pred, y_train)}.\")\n"
   ]
  },
  {
   "cell_type": "code",
   "execution_count": 10,
   "metadata": {},
   "outputs": [
    {
     "name": "stdout",
     "output_type": "stream",
     "text": [
      "0.8744187141663037\n",
      "The precision score is 0.0.\n",
      "The recall score is 0.0.\n"
     ]
    },
    {
     "name": "stderr",
     "output_type": "stream",
     "text": [
      "/media/sabyasachi/abc3d35f-a5e6-4ca6-9ec4-719bb77b1459/sabyasachi/git/spotify-tracks-project/venv/lib/python3.10/site-packages/sklearn/metrics/_classification.py:1334: UndefinedMetricWarning: Recall is ill-defined and being set to 0.0 due to no true samples. Use `zero_division` parameter to control this behavior.\n",
      "  _warn_prf(average, modifier, msg_start, len(result))\n"
     ]
    }
   ],
   "source": [
    "# Logistic Regression\n",
    "logistic_clf = LogisticRegression(random_state=0)\n",
    "logistic_clf.fit(X_train, y_train)\n",
    "logistic_train_pred = logistic_clf.predict(X_train)\n",
    "print(logistic_clf.score(X_train, y_train))\n",
    "\n",
    "# precision, recall\n",
    "print(f\"The precision score is {precision_score(logistic_train_pred, y_train)}.\")\n",
    "\n",
    "print(f\"The recall score is {recall_score(logistic_train_pred, y_train)}.\")\n",
    "#print(f\"The AUC score is {roc_auc_score(logistic_train_pred, y_train)}\")\n"
   ]
  },
  {
   "cell_type": "code",
   "execution_count": 11,
   "metadata": {},
   "outputs": [
    {
     "name": "stdout",
     "output_type": "stream",
     "text": [
      "0.9651640550499758\n",
      "The precision score is 0.986687916002625.\n",
      "The recall score is 0.7888622395442962.\n"
     ]
    }
   ],
   "source": [
    "# Random Forests\n",
    "random_clf = RandomForestClassifier(max_depth=20, random_state=0, class_weight= \"balanced\")\n",
    "random_clf.fit(X_train, y_train)\n",
    "random_train_pred = random_clf.predict(X_train)\n",
    "print(random_clf.score(X_train, y_train))\n",
    "\n",
    "print(f\"The precision score is {precision_score(random_train_pred, y_train)}.\")\n",
    "\n",
    "print(f\"The recall score is {recall_score(random_train_pred, y_train)}.\")"
   ]
  },
  {
   "cell_type": "code",
   "execution_count": null,
   "metadata": {},
   "outputs": [],
   "source": []
  }
 ],
 "metadata": {
  "kernelspec": {
   "display_name": "Python 3.10.6 ('venv': venv)",
   "language": "python",
   "name": "python3"
  },
  "language_info": {
   "codemirror_mode": {
    "name": "ipython",
    "version": 3
   },
   "file_extension": ".py",
   "mimetype": "text/x-python",
   "name": "python",
   "nbconvert_exporter": "python",
   "pygments_lexer": "ipython3",
   "version": "3.10.6"
  },
  "orig_nbformat": 4,
  "vscode": {
   "interpreter": {
    "hash": "c651e244ac1d95d29a8e67b44fdda86067bb5c36d97f1974fa9ddace7e61c4fb"
   }
  }
 },
 "nbformat": 4,
 "nbformat_minor": 2
}
