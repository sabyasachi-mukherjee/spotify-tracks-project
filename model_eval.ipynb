{
 "cells": [
  {
   "cell_type": "code",
   "execution_count": 23,
   "metadata": {},
   "outputs": [],
   "source": [
    "import pandas as pd\n",
    "import numpy as np"
   ]
  },
  {
   "cell_type": "code",
   "execution_count": 6,
   "metadata": {},
   "outputs": [],
   "source": [
    "from spotify.data_transformations import DataTransformations\n",
    "from spotify.train_test_split import DatasetSplit"
   ]
  },
  {
   "cell_type": "code",
   "execution_count": 33,
   "metadata": {},
   "outputs": [],
   "source": [
    "from sklearn.dummy import DummyClassifier\n",
    "from sklearn import tree\n",
    "from sklearn.linear_model import LogisticRegression\n",
    "from sklearn.ensemble import RandomForestClassifier\n",
    "from sklearn.metrics import precision_score, recall_score\n",
    "from sklearn.metrics import roc_auc_score"
   ]
  },
  {
   "cell_type": "code",
   "execution_count": 8,
   "metadata": {},
   "outputs": [],
   "source": [
    "df = pd.read_csv(\n",
    "    \"D:/Github/spotify-tracks-project/dataset/tracks.csv\"\n",
    ")  # Read dataframe"
   ]
  },
  {
   "cell_type": "code",
   "execution_count": 9,
   "metadata": {},
   "outputs": [],
   "source": [
    "DF = (df\n",
    ".pipe(DataTransformations.preprocess)\n",
    ".pipe(DataTransformations.process)\n",
    ")"
   ]
  },
  {
   "cell_type": "code",
   "execution_count": 10,
   "metadata": {},
   "outputs": [
    {
     "data": {
      "text/html": [
       "<div>\n",
       "<style scoped>\n",
       "    .dataframe tbody tr th:only-of-type {\n",
       "        vertical-align: middle;\n",
       "    }\n",
       "\n",
       "    .dataframe tbody tr th {\n",
       "        vertical-align: top;\n",
       "    }\n",
       "\n",
       "    .dataframe thead th {\n",
       "        text-align: right;\n",
       "    }\n",
       "</style>\n",
       "<table border=\"1\" class=\"dataframe\">\n",
       "  <thead>\n",
       "    <tr style=\"text-align: right;\">\n",
       "      <th></th>\n",
       "      <th>popularity</th>\n",
       "      <th>duration_ms</th>\n",
       "      <th>explicit</th>\n",
       "      <th>danceability</th>\n",
       "      <th>energy</th>\n",
       "      <th>key</th>\n",
       "      <th>loudness</th>\n",
       "      <th>mode</th>\n",
       "      <th>speechiness</th>\n",
       "      <th>acousticness</th>\n",
       "      <th>instrumentalness</th>\n",
       "      <th>liveness</th>\n",
       "      <th>valence</th>\n",
       "      <th>tempo</th>\n",
       "      <th>time_signature</th>\n",
       "    </tr>\n",
       "  </thead>\n",
       "  <tbody>\n",
       "    <tr>\n",
       "      <th>414876</th>\n",
       "      <td>0</td>\n",
       "      <td>279000</td>\n",
       "      <td>0</td>\n",
       "      <td>0.654</td>\n",
       "      <td>0.528</td>\n",
       "      <td>9</td>\n",
       "      <td>-5.674</td>\n",
       "      <td>1</td>\n",
       "      <td>0.0256</td>\n",
       "      <td>0.77200</td>\n",
       "      <td>0.000000</td>\n",
       "      <td>0.1340</td>\n",
       "      <td>0.4730</td>\n",
       "      <td>95.045</td>\n",
       "      <td>4</td>\n",
       "    </tr>\n",
       "    <tr>\n",
       "      <th>481510</th>\n",
       "      <td>0</td>\n",
       "      <td>160000</td>\n",
       "      <td>1</td>\n",
       "      <td>0.584</td>\n",
       "      <td>0.547</td>\n",
       "      <td>7</td>\n",
       "      <td>-8.502</td>\n",
       "      <td>0</td>\n",
       "      <td>0.3820</td>\n",
       "      <td>0.65500</td>\n",
       "      <td>0.000002</td>\n",
       "      <td>0.1340</td>\n",
       "      <td>0.5600</td>\n",
       "      <td>83.917</td>\n",
       "      <td>4</td>\n",
       "    </tr>\n",
       "    <tr>\n",
       "      <th>360011</th>\n",
       "      <td>0</td>\n",
       "      <td>223368</td>\n",
       "      <td>0</td>\n",
       "      <td>0.731</td>\n",
       "      <td>0.659</td>\n",
       "      <td>6</td>\n",
       "      <td>-4.018</td>\n",
       "      <td>1</td>\n",
       "      <td>0.1450</td>\n",
       "      <td>0.17600</td>\n",
       "      <td>0.001660</td>\n",
       "      <td>0.1000</td>\n",
       "      <td>0.8060</td>\n",
       "      <td>176.000</td>\n",
       "      <td>4</td>\n",
       "    </tr>\n",
       "    <tr>\n",
       "      <th>77287</th>\n",
       "      <td>0</td>\n",
       "      <td>214825</td>\n",
       "      <td>0</td>\n",
       "      <td>0.496</td>\n",
       "      <td>0.928</td>\n",
       "      <td>5</td>\n",
       "      <td>-9.056</td>\n",
       "      <td>0</td>\n",
       "      <td>0.0612</td>\n",
       "      <td>0.00237</td>\n",
       "      <td>0.864000</td>\n",
       "      <td>0.1450</td>\n",
       "      <td>0.0384</td>\n",
       "      <td>143.005</td>\n",
       "      <td>4</td>\n",
       "    </tr>\n",
       "    <tr>\n",
       "      <th>529772</th>\n",
       "      <td>0</td>\n",
       "      <td>330730</td>\n",
       "      <td>0</td>\n",
       "      <td>0.885</td>\n",
       "      <td>0.976</td>\n",
       "      <td>7</td>\n",
       "      <td>-7.868</td>\n",
       "      <td>1</td>\n",
       "      <td>0.0953</td>\n",
       "      <td>0.32400</td>\n",
       "      <td>0.000007</td>\n",
       "      <td>0.0536</td>\n",
       "      <td>0.6300</td>\n",
       "      <td>115.006</td>\n",
       "      <td>3</td>\n",
       "    </tr>\n",
       "  </tbody>\n",
       "</table>\n",
       "</div>"
      ],
      "text/plain": [
       "       popularity  duration_ms explicit  danceability  energy key  loudness  \\\n",
       "414876          0       279000        0         0.654   0.528   9    -5.674   \n",
       "481510          0       160000        1         0.584   0.547   7    -8.502   \n",
       "360011          0       223368        0         0.731   0.659   6    -4.018   \n",
       "77287           0       214825        0         0.496   0.928   5    -9.056   \n",
       "529772          0       330730        0         0.885   0.976   7    -7.868   \n",
       "\n",
       "       mode  speechiness  acousticness  instrumentalness  liveness  valence  \\\n",
       "414876    1       0.0256       0.77200          0.000000    0.1340   0.4730   \n",
       "481510    0       0.3820       0.65500          0.000002    0.1340   0.5600   \n",
       "360011    1       0.1450       0.17600          0.001660    0.1000   0.8060   \n",
       "77287     0       0.0612       0.00237          0.864000    0.1450   0.0384   \n",
       "529772    1       0.0953       0.32400          0.000007    0.0536   0.6300   \n",
       "\n",
       "          tempo time_signature  \n",
       "414876   95.045              4  \n",
       "481510   83.917              4  \n",
       "360011  176.000              4  \n",
       "77287   143.005              4  \n",
       "529772  115.006              3  "
      ]
     },
     "execution_count": 10,
     "metadata": {},
     "output_type": "execute_result"
    }
   ],
   "source": [
    "DF.head()"
   ]
  },
  {
   "cell_type": "code",
   "execution_count": 11,
   "metadata": {},
   "outputs": [
    {
     "name": "stdout",
     "output_type": "stream",
     "text": [
      "The lengths of the train and test sets are 84941 and 21236 respectively.\n"
     ]
    }
   ],
   "source": [
    "train_set = DatasetSplit.return_train(DF)\n",
    "test_set = DatasetSplit.return_test(DF)\n",
    "print(\"The lengths of the train and test sets are {} and {} respectively.\".format(len(train_set), len(test_set)))"
   ]
  },
  {
   "cell_type": "code",
   "execution_count": 12,
   "metadata": {},
   "outputs": [],
   "source": [
    "# X_train, X_test, y_train, t_test split\n",
    "X_train = train_set.copy().drop(columns=['popularity'])\n",
    "y_train = train_set['popularity']\n",
    "X_test = test_set.copy().drop(columns=['popularity'])\n",
    "y_test = test_set['popularity']\n"
   ]
  },
  {
   "cell_type": "code",
   "execution_count": 13,
   "metadata": {},
   "outputs": [],
   "source": [
    "y_train_array = y_train.to_numpy"
   ]
  },
  {
   "cell_type": "code",
   "execution_count": 14,
   "metadata": {},
   "outputs": [
    {
     "name": "stdout",
     "output_type": "stream",
     "text": [
      "0.8908183327250679\n",
      "The precision score is 0.0.\n",
      "The recall score is 0.0.\n",
      "The AUC score is 0.5.\n"
     ]
    },
    {
     "name": "stderr",
     "output_type": "stream",
     "text": [
      "C:\\Users\\maths\\AppData\\Local\\Packages\\PythonSoftwareFoundation.Python.3.10_qbz5n2kfra8p0\\LocalCache\\local-packages\\Python310\\site-packages\\sklearn\\metrics\\_classification.py:1334: UndefinedMetricWarning: Recall is ill-defined and being set to 0.0 due to no true samples. Use `zero_division` parameter to control this behavior.\n",
      "  _warn_prf(average, modifier, msg_start, len(result))\n"
     ]
    }
   ],
   "source": [
    "# Dummy Classifier\n",
    "dummy_clf = DummyClassifier(strategy=\"most_frequent\")\n",
    "dummy_clf.fit(X_train, y_train)\n",
    "dummy_train_pred = dummy_clf.predict(X_train)\n",
    "print(dummy_clf.score(X_train, y_train))\n",
    "\n",
    "# precision, recall\n",
    "print(f\"The precision score is {precision_score(dummy_train_pred, y_train)}.\")\n",
    "\n",
    "print(f\"The recall score is {recall_score(dummy_train_pred, y_train)}.\")\n",
    "print(f\"The AUC score is {roc_auc_score(y_train, dummy_train_pred)}.\")"
   ]
  },
  {
   "cell_type": "code",
   "execution_count": 15,
   "metadata": {},
   "outputs": [
    {
     "name": "stdout",
     "output_type": "stream",
     "text": [
      "0.9935955545614015\n",
      "The precision score is 0.9441449212853138.\n",
      "The recall score is 0.9970393987702117.\n",
      "The AUC score is 0.9719006552321081.\n"
     ]
    }
   ],
   "source": [
    "# Decision Tree\n",
    "decision_clf = tree.DecisionTreeClassifier()\n",
    "decision_clf.fit(X_train, y_train)\n",
    "decision_train_pred = decision_clf.predict(X_train)\n",
    "print(decision_clf.score(X_train, y_train))\n",
    "\n",
    "# precision, recall, roc score\n",
    "print(f\"The precision score is {precision_score(decision_train_pred, y_train)}.\")\n",
    "print(f\"The recall score is {recall_score(decision_train_pred, y_train)}.\")\n",
    "print(f\"The AUC score is {roc_auc_score(y_train, decision_train_pred)}.\")\n",
    "\n"
   ]
  },
  {
   "cell_type": "code",
   "execution_count": 16,
   "metadata": {},
   "outputs": [
    {
     "name": "stdout",
     "output_type": "stream",
     "text": [
      "0.8908183327250679\n",
      "The precision score is 0.0.\n",
      "The recall score is 0.0.\n",
      "The AUC score is 0.5\n"
     ]
    },
    {
     "name": "stderr",
     "output_type": "stream",
     "text": [
      "C:\\Users\\maths\\AppData\\Local\\Packages\\PythonSoftwareFoundation.Python.3.10_qbz5n2kfra8p0\\LocalCache\\local-packages\\Python310\\site-packages\\sklearn\\metrics\\_classification.py:1334: UndefinedMetricWarning: Recall is ill-defined and being set to 0.0 due to no true samples. Use `zero_division` parameter to control this behavior.\n",
      "  _warn_prf(average, modifier, msg_start, len(result))\n"
     ]
    }
   ],
   "source": [
    "# Logistic Regression\n",
    "logistic_clf = LogisticRegression(random_state=0)\n",
    "logistic_clf.fit(X_train, y_train)\n",
    "logistic_train_pred = logistic_clf.predict(X_train)\n",
    "print(logistic_clf.score(X_train, y_train))\n",
    "\n",
    "# precision, recall\n",
    "print(f\"The precision score is {precision_score(logistic_train_pred, y_train)}.\")\n",
    "print(f\"The recall score is {recall_score(logistic_train_pred, y_train)}.\")\n",
    "print(f\"The AUC score is {roc_auc_score(y_train, logistic_train_pred)}\")\n"
   ]
  },
  {
   "cell_type": "code",
   "execution_count": 17,
   "metadata": {},
   "outputs": [
    {
     "name": "stdout",
     "output_type": "stream",
     "text": [
      "0.96745976619065\n",
      "The precision score is 0.986197972827259.\n",
      "The recall score is 0.776268884739433.\n",
      "The AUC score is 0.9756805609441381\n"
     ]
    }
   ],
   "source": [
    "# Random Forests\n",
    "random_clf = RandomForestClassifier(max_depth=20, random_state=0, class_weight= \"balanced\")\n",
    "random_clf.fit(X_train, y_train)\n",
    "random_train_pred = random_clf.predict(X_train)\n",
    "print(random_clf.score(X_train, y_train))\n",
    "\n",
    "print(f\"The precision score is {precision_score(random_train_pred, y_train)}.\")\n",
    "print(f\"The recall score is {recall_score(random_train_pred, y_train)}.\")\n",
    "print(f\"The AUC score is {roc_auc_score(y_train, random_train_pred)}\")\n"
   ]
  },
  {
   "cell_type": "markdown",
   "metadata": {},
   "source": [
    "Now we evaluate the models on the test set."
   ]
  },
  {
   "cell_type": "code",
   "execution_count": 18,
   "metadata": {},
   "outputs": [
    {
     "name": "stdout",
     "output_type": "stream",
     "text": [
      "0.8260030137502354\n",
      "The precision score is 0.2393925859758821.\n",
      "The recall score is 0.2120253164556962.\n",
      "The AUC score is 0.5672669620409494.\n"
     ]
    }
   ],
   "source": [
    "# Decision Tree\n",
    "decision_test_pred = decision_clf.predict(X_test)\n",
    "print(decision_clf.score(X_test, y_test))\n",
    "\n",
    "# precision, recall, roc score\n",
    "print(f\"The precision score is {precision_score(decision_test_pred, y_test)}.\")\n",
    "print(f\"The recall score is {recall_score(decision_test_pred, y_test)}.\")\n",
    "print(f\"The AUC score is {roc_auc_score(y_test, decision_test_pred)}.\")"
   ]
  },
  {
   "cell_type": "code",
   "execution_count": 19,
   "metadata": {},
   "outputs": [
    {
     "name": "stdout",
     "output_type": "stream",
     "text": [
      "0.8945658316067056\n",
      "The precision score is 0.0.\n",
      "The recall score is 0.0.\n",
      "The AUC score is 0.5.\n"
     ]
    },
    {
     "name": "stderr",
     "output_type": "stream",
     "text": [
      "C:\\Users\\maths\\AppData\\Local\\Packages\\PythonSoftwareFoundation.Python.3.10_qbz5n2kfra8p0\\LocalCache\\local-packages\\Python310\\site-packages\\sklearn\\metrics\\_classification.py:1334: UndefinedMetricWarning: Recall is ill-defined and being set to 0.0 due to no true samples. Use `zero_division` parameter to control this behavior.\n",
      "  _warn_prf(average, modifier, msg_start, len(result))\n"
     ]
    }
   ],
   "source": [
    "# Logistic Regression\n",
    "logistic_test_pred = logistic_clf.predict(X_test)\n",
    "print(logistic_clf.score(X_test, y_test))\n",
    "\n",
    "# precision, recall, roc score\n",
    "print(f\"The precision score is {precision_score(logistic_test_pred, y_test)}.\")\n",
    "print(f\"The recall score is {recall_score(logistic_test_pred, y_test)}.\")\n",
    "print(f\"The AUC score is {roc_auc_score(y_test, logistic_test_pred)}.\") # Nothing suprising about the precision, recall and AUC scores."
   ]
  },
  {
   "cell_type": "code",
   "execution_count": 20,
   "metadata": {},
   "outputs": [
    {
     "name": "stdout",
     "output_type": "stream",
     "text": [
      "0.8628272744396308\n",
      "The precision score is 0.21125502456453774.\n",
      "The recall score is 0.2919753086419753.\n",
      "The AUC score is 0.5754385350753415.\n"
     ]
    }
   ],
   "source": [
    "# Random Forests\n",
    "random_test_pred = random_clf.predict(X_test)\n",
    "print(random_clf.score(X_test, y_test))\n",
    "\n",
    "# precision, recall, roc score\n",
    "print(f\"The precision score is {precision_score(random_test_pred, y_test)}.\")\n",
    "print(f\"The recall score is {recall_score(random_test_pred, y_test)}.\")\n",
    "print(f\"The AUC score is {roc_auc_score(y_test, random_test_pred)}.\")"
   ]
  },
  {
   "cell_type": "markdown",
   "metadata": {},
   "source": [
    "Let us now try out some baseline models that we can build from our exploratory data analysis."
   ]
  },
  {
   "cell_type": "code",
   "execution_count": 21,
   "metadata": {},
   "outputs": [],
   "source": [
    "# Baseline model 1 (time signature)\n",
    "\n",
    "def predict_by_time_signature(dataframe : pd.DataFrame):\n",
    "    \"\"\"This model predicts using time_signature. See EDA for these numbers.\"\"\"\n",
    "    reindexed_dataset = dataframe.copy().reset_index().drop(columns = ['index'])\n",
    "    predictions = np.zeros(dataframe.shape[0], dtype = int)\n",
    "    for i in reindexed_dataset.index:\n",
    "        if reindexed_dataset.loc[i, 'time_signature']== 0:\n",
    "            predictions[i] = np.random.choice(2, 1, p = [1-0.154,0.154])[0] # predict 0 with prob 0.846 and 1 with 0.154\n",
    "        elif reindexed_dataset.loc[i, 'time_signature']== 1:\n",
    "            predictions[i] = np.random.choice(2, 1, p = [1-0.102,0.102])[0]\n",
    "        elif reindexed_dataset.loc[i, 'time_signature']== 3:\n",
    "            predictions[i] = np.random.choice(2, 1, p = [1-0.102,0.102])[0]\n",
    "        elif reindexed_dataset.loc[i, 'time_signature']== 4:\n",
    "            predictions[i] = np.random.choice(2, 1, p = [1-0.109,0.109])[0]\n",
    "        else:\n",
    "            predictions[i] = np.random.choice(2, 1, p = [1-0.114,0.114])[0]\n",
    "    return predictions"
   ]
  },
  {
   "cell_type": "code",
   "execution_count": 32,
   "metadata": {},
   "outputs": [
    {
     "name": "stdout",
     "output_type": "stream",
     "text": [
      "The precision score is 0.10897722197409558.\n",
      "The recall score is 0.10664335664335664.\n",
      "The AUC score is 0.5006906428868214.\n"
     ]
    }
   ],
   "source": [
    "time_signature_test_pred = predict_by_time_signature(X_test)\n",
    "\n",
    "# precision, recall, roc score\n",
    "print(f\"The precision score is {precision_score(time_signature_test_pred, y_test)}.\")\n",
    "print(f\"The recall score is {recall_score(time_signature_test_pred, y_test)}.\")\n",
    "print(f\"The AUC score is {roc_auc_score(y_test, time_signature_test_pred)}.\")\n"
   ]
  },
  {
   "cell_type": "code",
   "execution_count": 26,
   "metadata": {},
   "outputs": [],
   "source": [
    "# Baseline model (instrumentalness)\n",
    "\n",
    "def predict_by_instrumentalness(dataframe : pd.DataFrame):\n",
    "    \"\"\"This model predicts using instrumentalness. See EDA for these numbers.\"\"\"\n",
    "    reindexed_dataset = dataframe.copy().reset_index().drop(columns = ['index'])\n",
    "    predictions = np.zeros(dataframe.shape[0], dtype = int)\n",
    "    for i in reindexed_dataset.index:\n",
    "        if reindexed_dataset.loc[i, 'instrumentalness'] <= 2.21e-05:\n",
    "            predictions[i] = np.random.choice(2, 1, p = [1-0.128,0.128])[0] \n",
    "        elif reindexed_dataset.loc[i, 'instrumentalness']>= 2.21e-05 and reindexed_dataset.loc[i, 'instrumentalness'] <=  0.00756 :\n",
    "            predictions[i] = np.random.choice(2, 1, p = [1-0.105722,0.105722])[0]\n",
    "        else:\n",
    "            predictions[i] = np.random.choice(2, 1, p = [1-0.053214,0.053214])[0]\n",
    "    return predictions\n"
   ]
  },
  {
   "cell_type": "code",
   "execution_count": 30,
   "metadata": {},
   "outputs": [
    {
     "name": "stdout",
     "output_type": "stream",
     "text": [
      "The precision score is 0.1174631531933899.\n",
      "The recall score is 0.11504811898512686.\n",
      "The AUC score is 0.5054863273468133.\n"
     ]
    }
   ],
   "source": [
    "instrumentalness_test_pred = predict_by_instrumentalness(X_test)\n",
    "\n",
    "# precision, recall, roc score\n",
    "print(f\"The precision score is {precision_score(instrumentalness_test_pred, y_test)}.\")\n",
    "print(f\"The recall score is {recall_score(instrumentalness_test_pred, y_test)}.\")\n",
    "print(f\"The AUC score is {roc_auc_score(y_test, instrumentalness_test_pred)}.\")"
   ]
  },
  {
   "cell_type": "code",
   "execution_count": 28,
   "metadata": {},
   "outputs": [],
   "source": [
    "# Baseline model (danceability)\n",
    "\n",
    "def predict_by_danceability(dataframe : pd.DataFrame):\n",
    "    \"\"\"This model predicts using danceability. See EDA for these numbers.\"\"\"\n",
    "    reindexed_dataset = dataframe.copy().reset_index().drop(columns = ['index'])\n",
    "    predictions = np.zeros(dataframe.shape[0], dtype = int)\n",
    "    for i in reindexed_dataset.index:\n",
    "        if reindexed_dataset.loc[i, 'danceability'] <= 0.491:\n",
    "            predictions[i] = np.random.choice(2, 1, p = [1-0.073480,0.073480])[0] # predict 0 with prob 0.846 and 1 with 0.154\n",
    "        elif reindexed_dataset.loc[i, 'danceability']>= 0.491 and reindexed_dataset.loc[i, 'danceability'] <=  0.592 :\n",
    "            predictions[i] = np.random.choice(2, 1, p = [1-0.095256,0.095256])[0]\n",
    "        elif reindexed_dataset.loc[i, 'danceability']>= 0.592 and reindexed_dataset.loc[i, 'danceability'] <=  0.677 :\n",
    "            predictions[i] = np.random.choice(2, 1, p = [1-0.108629,0.108629])[0]\n",
    "        elif reindexed_dataset.loc[i, 'danceability']>= 0.677 and reindexed_dataset.loc[i, 'danceability'] <= 0.761 :\n",
    "            predictions[i] = np.random.choice(2, 1, p = [1-0.125706,0.125706])[0]\n",
    "        else:\n",
    "            predictions[i] = np.random.choice(2, 1, p = [1-0.139471,0.139471])[0]\n",
    "    return predictions\n"
   ]
  },
  {
   "cell_type": "code",
   "execution_count": 31,
   "metadata": {},
   "outputs": [
    {
     "name": "stdout",
     "output_type": "stream",
     "text": [
      "The precision score is 0.11701652523447968.\n",
      "The recall score is 0.11506368028107158.\n",
      "The AUC score is 0.5054735729293944.\n"
     ]
    }
   ],
   "source": [
    "danceability_test_pred = predict_by_danceability(X_test)\n",
    "\n",
    "# precision, recall, roc score\n",
    "print(f\"The precision score is {precision_score(danceability_test_pred, y_test)}.\")\n",
    "print(f\"The recall score is {recall_score(danceability_test_pred, y_test)}.\")\n",
    "print(f\"The AUC score is {roc_auc_score(y_test, danceability_test_pred)}.\")"
   ]
  },
  {
   "cell_type": "markdown",
   "metadata": {},
   "source": [
    "Based on the precision and recall scores, and the AUC score, we should go with random forests. "
   ]
  },
  {
   "cell_type": "code",
   "execution_count": 37,
   "metadata": {},
   "outputs": [],
   "source": [
    "import pickle"
   ]
  },
  {
   "cell_type": "code",
   "execution_count": 44,
   "metadata": {},
   "outputs": [],
   "source": [
    "filename = 'popular_or_not_model.pkl'\n",
    "pickle.dump(random_clf, open(filename, 'wb'))"
   ]
  },
  {
   "cell_type": "code",
   "execution_count": 45,
   "metadata": {},
   "outputs": [],
   "source": [
    "loaded_classifier = pickle.load(open(filename, 'rb')) # load saved model"
   ]
  },
  {
   "cell_type": "code",
   "execution_count": 47,
   "metadata": {},
   "outputs": [
    {
     "data": {
      "text/plain": [
       "array([0, 0, 0, ..., 1, 0, 0], dtype=int64)"
      ]
     },
     "execution_count": 47,
     "metadata": {},
     "output_type": "execute_result"
    }
   ],
   "source": [
    "loaded_classifier.predict(X_test)"
   ]
  },
  {
   "cell_type": "code",
   "execution_count": null,
   "metadata": {},
   "outputs": [],
   "source": []
  }
 ],
 "metadata": {
  "kernelspec": {
   "display_name": "Python 3.10.8 64-bit (microsoft store)",
   "language": "python",
   "name": "python3"
  },
  "language_info": {
   "codemirror_mode": {
    "name": "ipython",
    "version": 3
   },
   "file_extension": ".py",
   "mimetype": "text/x-python",
   "name": "python",
   "nbconvert_exporter": "python",
   "pygments_lexer": "ipython3",
   "version": "3.10.8"
  },
  "orig_nbformat": 4,
  "vscode": {
   "interpreter": {
    "hash": "2928cd6ab3be6424f9121d7ebbe37b14218935724b11e3c454193c8939a153c1"
   }
  }
 },
 "nbformat": 4,
 "nbformat_minor": 2
}
